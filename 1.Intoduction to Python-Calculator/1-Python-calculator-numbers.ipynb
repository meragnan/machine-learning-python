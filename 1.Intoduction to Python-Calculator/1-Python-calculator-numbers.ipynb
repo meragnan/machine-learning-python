{
 "cells": [
  {
   "cell_type": "code",
   "execution_count": null,
   "id": "3932d431-f83d-4568-bcad-c139dcb40ac7",
   "metadata": {
    "scrolled": true
   },
   "outputs": [],
   "source": [
    "###Using Python as a Calculator\n",
    "''' The interpreter acts as a simple calculator: you can type an expression at it and it will write the value.\n",
    "Expression syntax is straightforward: the operators +, -, * and / can be used to perform arithmetic; \n",
    "parentheses (()) can be used for grouping '''\n",
    "\n",
    "#2 + 2 # addition\n",
    "#50 - 5*6 #substraction and Multiplication operator#\n",
    "#(50 - 5*6) / 4 # Division operator\n",
    "#8 / 5  # division always returns a floating-point number\n",
    "#27 / 3  # classic division returns a float\n",
    "#27 // 3  # floor division discards the fractional part\n",
    "#27 % 3  # The % operator returns the remainder of the division\n",
    "#15 * 3 + 2  # floored quotient * divisor + remainder\n",
    "#5 ** 2  # 5 squared\n",
    "#2 ** 7  # 2 to the power of 7\n"
   ]
  },
  {
   "cell_type": "code",
   "execution_count": null,
   "id": "0250e204-6c2b-4b11-a45a-5b23efa22637",
   "metadata": {},
   "outputs": [],
   "source": [
    "'''The equal sign (=) is used to assign a value to a variable. \n",
    "   Afterwards, no result is displayed before the next interactive prompt '''\n",
    "\n",
    "width = 20  #variable assigns 20 values to named variable width\n",
    "height = 5 * 9 #value multiples and adds the value 45 to variable height\n",
    "type(width * height)\n",
    "\n",
    "#we can use the type() function to know the variable data type"
   ]
  },
  {
   "cell_type": "code",
   "execution_count": null,
   "id": "b12a950d-c026-4f3f-a269-53706d141cf6",
   "metadata": {},
   "outputs": [],
   "source": []
  }
 ],
 "metadata": {
  "kernelspec": {
   "display_name": "Python 3 (ipykernel)",
   "language": "python",
   "name": "python3"
  },
  "language_info": {
   "codemirror_mode": {
    "name": "ipython",
    "version": 3
   },
   "file_extension": ".py",
   "mimetype": "text/x-python",
   "name": "python",
   "nbconvert_exporter": "python",
   "pygments_lexer": "ipython3",
   "version": "3.12.4"
  }
 },
 "nbformat": 4,
 "nbformat_minor": 5
}
