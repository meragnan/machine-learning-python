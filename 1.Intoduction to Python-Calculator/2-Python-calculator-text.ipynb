{
 "cells": [
  {
   "cell_type": "code",
   "execution_count": null,
   "id": "b13c5ae0-6f3c-451d-b735-a4a3405d03eb",
   "metadata": {
    "scrolled": true
   },
   "outputs": [],
   "source": [
    "''' Python can manipulate text (aka “strings”) as well as numbers. \n",
    "    They can be enclosed in single quotes ('...') or double quotes (\"...\") \n",
    "    with the same result '''\n",
    "\n",
    "# 'Python'  # single quotes\n",
    "# \"Started AI learning :)! Yay!\"  # double quotes\n",
    "# '1975'  # digits and numerals enclosed in quotes are also strings"
   ]
  },
  {
   "cell_type": "code",
   "execution_count": null,
   "id": "4bdfcf76-bdde-4e0e-9d57-f1fbe0f626b4",
   "metadata": {},
   "outputs": [],
   "source": [
    "''' To quote a quote, we can \"escape\" it by preceding it with \\ or\n",
    "    use a different type of quotation marks.'''\n",
    "\n",
    "#'doesn\\'t'  # use \\' to escape the single quote...\n",
    "# \"doesn't\"  # ...or use double quotes instead\n",
    "# '\"Yes,\" they said.'\n",
    "# \"\\\"Yes,\\\" they said.\"\n",
    "# '\"Isn\\'t,\" they said.'"
   ]
  },
  {
   "cell_type": "code",
   "execution_count": null,
   "id": "113aae4d-00c7-4e05-bc75-dd44a6170894",
   "metadata": {},
   "outputs": [],
   "source": [
    "''' To prevent characters prefaced by \\ from being interpreted as special characters, \n",
    "    you can use raw strings by adding an r before the first quote.'''\n",
    "\n",
    "print('D:\\python\\numpy')  # here \\n means newline!\n",
    "print(r'D:\\python\\numpy')  # note the r before the quote"
   ]
  },
  {
   "cell_type": "code",
   "execution_count": null,
   "id": "d293565e-5863-4e3f-a539-17f44a3f4d97",
   "metadata": {},
   "outputs": [],
   "source": [
    "'Strings can be concatenated with the + operator and repeated using the * operator.'\n",
    "\n",
    "## 3 times 'py', followed by 'thon'\n",
    "print(3 * 'py' + 'thon')\n",
    "\n",
    "##Two or more string literals next to each other are automatically concatenated\n",
    "print('py' 'thon')\n"
   ]
  },
  {
   "cell_type": "code",
   "execution_count": 79,
   "id": "bf2c004f-a0e2-4eff-9311-179c6eb5bc71",
   "metadata": {
    "scrolled": true
   },
   "outputs": [
    {
     "ename": "TypeError",
     "evalue": "'str' object does not support item assignment",
     "output_type": "error",
     "traceback": [
      "\u001b[0;31m---------------------------------------------------------------------------\u001b[0m",
      "\u001b[0;31mTypeError\u001b[0m                                 Traceback (most recent call last)",
      "Cell \u001b[0;32mIn[79], line 27\u001b[0m\n\u001b[1;32m     24\u001b[0m \u001b[38;5;66;03m# word[17]\u001b[39;00m\n\u001b[1;32m     26\u001b[0m word \u001b[38;5;241m=\u001b[39m \u001b[38;5;124m'\u001b[39m\u001b[38;5;124mpython\u001b[39m\u001b[38;5;124m'\u001b[39m\n\u001b[0;32m---> 27\u001b[0m word[\u001b[38;5;241m0\u001b[39m] \u001b[38;5;241m=\u001b[39m \u001b[38;5;124m'\u001b[39m\u001b[38;5;124mk\u001b[39m\u001b[38;5;124m'\u001b[39m\n",
      "\u001b[0;31mTypeError\u001b[0m: 'str' object does not support item assignment"
     ]
    }
   ],
   "source": [
    "''' Strings can be indexed, and each character can be accessed by its position, \n",
    "    starting from 0 '''\n",
    "\n",
    "# word = 'Machine Learning'\n",
    "# word[0]  # character in position 0\n",
    "# word[10]  # character in position 16\n",
    "\n",
    "''' In addition to indexing, slicing is also supported. While indexing is used to obtain \n",
    "    individual characters, slicing allows you to obtain a substring '''\n",
    "#course = 'python'\n",
    "# course[0:2]  # characters from position 0 (included) to 2 (excluded)\n",
    "# course[2:5]  # characters from position 2 (included) to 5 (excluded)\n",
    "\n",
    "''' An omitted first index defaults to zero, an omitted second index defaults \n",
    "    to the size of the string being sliced '''\n",
    "\n",
    "# word[:2]   # character from the beginning to position 2 (excluded)\n",
    "# word[4:]   # characters from position 4 (included) to the end\n",
    "# word[-2:]  # characters from the second-last (included) to the end\n",
    "\n",
    "'''Attempting to use an index that is too large will result in an error, \n",
    "   IndexError: string index out of range '''\n",
    "\n",
    "# word[17]\n",
    "\n",
    "### Python strings are immutable and cannot be changed, throwing a Type Error\n",
    "word = 'python'\n",
    "word[0] = 'k'\n",
    "\n"
   ]
  }
 ],
 "metadata": {
  "kernelspec": {
   "display_name": "Python 3 (ipykernel)",
   "language": "python",
   "name": "python3"
  },
  "language_info": {
   "codemirror_mode": {
    "name": "ipython",
    "version": 3
   },
   "file_extension": ".py",
   "mimetype": "text/x-python",
   "name": "python",
   "nbconvert_exporter": "python",
   "pygments_lexer": "ipython3",
   "version": "3.12.4"
  }
 },
 "nbformat": 4,
 "nbformat_minor": 5
}
