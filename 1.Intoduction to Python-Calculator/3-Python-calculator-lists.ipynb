{
 "cells": [
  {
   "cell_type": "code",
   "execution_count": null,
   "id": "57c4e2f3-90c7-48b9-ad88-a20b2100008c",
   "metadata": {
    "scrolled": true
   },
   "outputs": [],
   "source": [
    "''' The most versatile is the list, which can be written as a list of comma-separated values (items) \n",
    "    between square brackets. Lists might contain items of different types, but usually, the \n",
    "    items all have the same type.'''\n",
    "\n",
    "squares = [1, 4, 9, 16, 25]\n",
    "squares\n",
    "\n",
    "'Like strings (and all other built-in sequence types), lists can be indexed and sliced'\n",
    "\n",
    "squares[0]  # indexing returns the item\n",
    "\n",
    "squares[-1]\n",
    "\n",
    "squares[-3:]  # slicing returns a new list\n",
    "\n",
    "' Lists also support operations like concatenation '\n",
    "\n",
    "squares + [26, 29, 84, 82, 200]\n",
    "\n",
    "'Unlike strings, which are immutable, lists are a mutable type, i.e. it is possible to change their content'\n",
    "\n",
    "cubes = [1, 8, 27, 65, 125]  # Something's wrong here, as we are doing cube of [1,2,3,4,5]\n",
    "4 ** 3  # The cube of 4 is 64, not 65!\n",
    "\n",
    "cubes[3] = 64  # replace the wrong value\n",
    "cubes"
   ]
  },
  {
   "cell_type": "code",
   "execution_count": null,
   "id": "6bc4a72b-c044-4c84-8a73-f1f9f9f0f593",
   "metadata": {
    "scrolled": true
   },
   "outputs": [],
   "source": [
    "'You can also add new items at the end of the list, by using the list.append() method '\n",
    "\n",
    "cubes.append(216)  # add the cube of 6\n",
    "cubes.append(7 ** 3)  # and the cube of 7\n",
    "cubes"
   ]
  },
  {
   "cell_type": "code",
   "execution_count": null,
   "id": "411e2877-7265-4d29-9723-eba001c15011",
   "metadata": {},
   "outputs": [],
   "source": [
    "### Assignment to slices is also possible, and this can even change the size of the list or clear it entirely'\n",
    "letters = ['a', 'b', 'c', 'd', 'e', 'f', 'g']\n",
    "letters\n",
    "\n",
    "# replace some values\n",
    "letters[2:5] = ['C', 'D', 'E']\n",
    "letters\n",
    "\n",
    "# now remove them\n",
    "letters[2:5] = []\n",
    "letters\n",
    "\n",
    "# clear the list by replacing all the elements with an empty list\n",
    "letters[:] = []\n",
    "letters\n",
    "\n",
    "#The built-in function len() also applies to lists\n",
    "letters = ['a', 'b', 'c', 'd']\n",
    "len(letters)"
   ]
  },
  {
   "cell_type": "code",
   "execution_count": null,
   "id": "d077959a-adb5-4ec3-aa52-b14679198db6",
   "metadata": {},
   "outputs": [],
   "source": [
    "# List references in Python\n",
    "\n",
    "rgb = [\"Red\", \"Green\", \"Blue\"]\n",
    "rgba = rgb\n",
    "id(rgb) == id(rgba)  # they reference the same object\n",
    "rgba.append(\"Alph\")\n",
    "rgb\n",
    "\n",
    "''' All slice operations return a new list containing the requested elements. \n",
    "   This means that the following slice returns a shallow copy of the list'''\n",
    "correct_rgba = rgba[:]\n",
    "correct_rgba[-1] = \"Alpha\"\n",
    "correct_rgba\n",
    "\n",
    "rgba"
   ]
  }
 ],
 "metadata": {
  "kernelspec": {
   "display_name": "Python 3 (ipykernel)",
   "language": "python",
   "name": "python3"
  },
  "language_info": {
   "codemirror_mode": {
    "name": "ipython",
    "version": 3
   },
   "file_extension": ".py",
   "mimetype": "text/x-python",
   "name": "python",
   "nbconvert_exporter": "python",
   "pygments_lexer": "ipython3",
   "version": "3.12.4"
  }
 },
 "nbformat": 4,
 "nbformat_minor": 5
}
